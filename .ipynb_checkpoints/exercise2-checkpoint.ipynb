{
 "cells": [
  {
   "cell_type": "code",
   "execution_count": 72,
   "id": "4979c01e",
   "metadata": {},
   "outputs": [],
   "source": [
    "import numpy as np\n",
    "import matplotlib.pyplot as plt\n",
    "import random as r\n",
    "from scipy import stats\n",
    "from scipy.optimize import curve_fit"
   ]
  },
  {
   "cell_type": "markdown",
   "id": "0d578b4a",
   "metadata": {},
   "source": [
    "# Monte Carlo exponential and uniform separaterly"
   ]
  },
  {
   "cell_type": "code",
   "execution_count": 2,
   "id": "82dd1ce0",
   "metadata": {},
   "outputs": [],
   "source": [
    "# exponential distribution\n",
    "def M_CDF(mu):\n",
    "    return 1-np.exp(-mu) # integrate M(mu) from 0 to mu bc mu needs to be positive (polar coords)\n",
    "\n",
    "def M_inverseCDF(r):\n",
    "    return -np.log(np.abs(1-r))\n",
    "\n",
    "# uniform distribution\n",
    "def Theta_CDF(theta):\n",
    "    return theta/(2*np.pi)\n",
    "\n",
    "def Theta_inverseCDF(r):\n",
    "    return r*2*np.pi"
   ]
  },
  {
   "cell_type": "code",
   "execution_count": 85,
   "id": "e473557a",
   "metadata": {},
   "outputs": [],
   "source": [
    "Nsamp = 1e7\n",
    "trials = range(int(Nsamp))\n",
    "\n",
    "values_mu = np.zeros(int(Nsamp))\n",
    "values_theta = np.zeros(int(Nsamp))\n",
    "\n",
    "# Generate mu and theta separately\n",
    "for i in trials:\n",
    "    r1 = r.random() # value between 0 and 1\n",
    "    r2 = r.randrange(-1000, 1000)/1000 # value between -1 and 1\n",
    "    \n",
    "    values_mu[i] = M_inverseCDF(r1) # store randomly generated mu's\n",
    "    values_theta[i] = Theta_inverseCDF(r2) # store randomly generated theta's"
   ]
  },
  {
   "cell_type": "code",
   "execution_count": 86,
   "id": "4ef21e90",
   "metadata": {},
   "outputs": [
    {
     "data": {
      "image/png": "[encoded data removed]",
      "text/plain": [
       "<Figure size 432x288 with 1 Axes>"
      ]
     },
     "metadata": {
      "needs_background": "light"
     },
     "output_type": "display_data"
    }
   ],
   "source": [
    "# debugging\n",
    "\n",
    "test = np.linspace(-10, 10)\n",
    "plt.plot(test, M_CDF(test))\n",
    "\n",
    "test_r = np.linspace(-1000, 0)\n",
    "plt.plot(M_inverseCDF(test_r), test_r)\n",
    "\n",
    "plt.show()"
   ]
  },
  {
   "cell_type": "markdown",
   "id": "495c741f",
   "metadata": {},
   "source": [
    "# Convert back to x and y"
   ]
  },
  {
   "cell_type": "code",
   "execution_count": 87,
   "id": "28e89f24",
   "metadata": {},
   "outputs": [],
   "source": [
    "# Convert to polar coordinates (mu --> r)\n",
    "\n",
    "sigma = 1 # arbitrary\n",
    "\n",
    "values_r = np.sqrt(2*sigma**2 * values_mu)"
   ]
  },
  {
   "cell_type": "code",
   "execution_count": 88,
   "id": "de6fb53c",
   "metadata": {},
   "outputs": [
    {
     "name": "stdout",
     "output_type": "stream",
     "text": [
      "mean -0.0001914836206843054\n",
      "std 0.9998561709105472\n"
     ]
    }
   ],
   "source": [
    "# Convert to cartesian\n",
    "\n",
    "x = values_r*np.cos(values_theta)\n",
    "y = values_r*np.sin(values_theta)\n",
    "\n",
    "print(\"mean\", np.mean(x))\n",
    "print(\"std\", np.std(x))"
   ]
  },
  {
   "cell_type": "markdown",
   "id": "468e990b",
   "metadata": {},
   "source": [
    "# Plotting"
   ]
  },
  {
   "cell_type": "code",
   "execution_count": 89,
   "id": "68b7e471",
   "metadata": {},
   "outputs": [
    {
     "data": {
      "image/png": "[encoded data removed]",
      "text/plain": [
       "<Figure size 432x288 with 1 Axes>"
      ]
     },
     "metadata": {
      "needs_background": "light"
     },
     "output_type": "display_data"
    }
   ],
   "source": [
    "bins = np.linspace(-5, 5, 22)\n",
    "hist = plt.hist(x, bins)\n",
    "plt.show()\n",
    "\n",
    "counts = hist[0]\n",
    "bin_edges = hist[1]\n",
    "\n",
    "bin_widths = np.mean(np.diff(bin_edges))\n",
    "bin_middles = bin_edges+bin_widths/2\n",
    "bin_middles = bin_middles[:-1]\n",
    "\n",
    "# normalize\n",
    "norm = Nsamp*bin_widths\n",
    "counts /= norm"
   ]
  },
  {
   "cell_type": "markdown",
   "id": "61517c60",
   "metadata": {},
   "source": [
    "## Verify quantitatively that your random number generator works."
   ]
  },
  {
   "cell_type": "code",
   "execution_count": 91,
   "id": "a66bea87",
   "metadata": {},
   "outputs": [
    {
     "data": {
      "image/png": "[encoded data removed]",
      "text/plain": [
       "<Figure size 432x288 with 1 Axes>"
      ]
     },
     "metadata": {
      "needs_background": "light"
     },
     "output_type": "display_data"
    },
    {
     "name": "stdout",
     "output_type": "stream",
     "text": [
      "Mean of the best fit curve: -0.00026249211837953097 +/- 0.0002968651578611755\n"
     ]
    }
   ],
   "source": [
    "plt.plot(bin_middles, counts, \".\", label=\"Generated numbers\")\n",
    "\n",
    "# Define the Gaussian function\n",
    "def Gauss(x, A, s, mu):\n",
    "    y = A*np.exp(-1*s*(x-mu)**2)\n",
    "    return y\n",
    "\n",
    "# do a best fit\n",
    "parameters, covariance = curve_fit(Gauss, bin_middles, counts)\n",
    "\n",
    "fit_A = parameters[0]\n",
    "fit_s = parameters[1]\n",
    "fit_mu = parameters[2]\n",
    "\n",
    "perr = np.sqrt(np.diag(covariance))\n",
    "\n",
    "fitted_data = Gauss(bin_middles, fit_A, fit_s, fit_mu)\n",
    "plt.plot(bin_middles, fitted_data, label=\"Best fit\")\n",
    "plt.legend()\n",
    "plt.show()\n",
    "\n",
    "print(\"Mean of the best fit curve:\", fit_mu, \"+/-\", perr[2])"
   ]
  },
  {
   "cell_type": "code",
   "execution_count": null,
   "id": "21c43ced",
   "metadata": {},
   "outputs": [],
   "source": []
  }
 ],
 "metadata": {
  "kernelspec": {
   "display_name": "Python 3 (ipykernel)",
   "language": "python",
   "name": "python3"
  },
  "language_info": {
   "codemirror_mode": {
    "name": "ipython",
    "version": 3
   },
   "file_extension": ".py",
   "mimetype": "text/x-python",
   "name": "python",
   "nbconvert_exporter": "python",
   "pygments_lexer": "ipython3",
   "version": "3.8.5"
  }
 },
 "nbformat": 4,
 "nbformat_minor": 5
}
