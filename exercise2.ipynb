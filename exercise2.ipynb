{
 "cells": [
  {
   "cell_type": "code",
   "execution_count": 18,
   "id": "512c47b6",
   "metadata": {},
   "outputs": [],
   "source": [
    "import numpy as np\n",
    "import matplotlib.pyplot as plt\n",
    "import random as r"
   ]
  },
  {
   "cell_type": "markdown",
   "id": "0b9be4fc",
   "metadata": {},
   "source": [
    "# Monte Carlo exponential and uniform separaterly"
   ]
  },
  {
   "cell_type": "code",
   "execution_count": 45,
   "id": "72bc15d4",
   "metadata": {},
   "outputs": [],
   "source": [
    "# exponential distribution\n",
    "def M_CDF(mu):\n",
    "    return 1-np.exp(-mu) # integrate M(mu) from 0 to mu bc mu needs to be positive (polar coords)\n",
    "\n",
    "def M_inverseCDF(r):\n",
    "    return -np.log(np.abs(1-r))\n",
    "\n",
    "# uniform distribution\n",
    "def Theta_CDF(theta):\n",
    "    return theta/(2*np.pi)\n",
    "\n",
    "def Theta_inverseCDF(r):\n",
    "    return r*2*np.pi"
   ]
  },
  {
   "cell_type": "code",
   "execution_count": 46,
   "id": "0ba83ac9",
   "metadata": {},
   "outputs": [],
   "source": [
    "Nsamp = 1e7\n",
    "trials = range(int(Nsamp))\n",
    "\n",
    "values_mu = np.zeros(int(Nsamp))\n",
    "values_theta = np.zeros(int(Nsamp))\n",
    "\n",
    "# Generate mu and theta separately\n",
    "for i in trials:\n",
    "    ro = r.random() # value between 0 and 1\n",
    "    values_mu[i] = M_inverseCDF(ro) # store randomly generated mu's\n",
    "    values_theta[i] = Theta_inverseCDF(ro) # store randomly generated theta's"
   ]
  },
  {
   "cell_type": "code",
   "execution_count": 47,
   "id": "446e8a54",
   "metadata": {},
   "outputs": [
    {
     "name": "stderr",
     "output_type": "stream",
     "text": [
      "/tmp/ipykernel_5922/1928946321.py:6: RuntimeWarning: divide by zero encountered in log\n",
      "  return -np.log(np.abs(1-r))\n"
     ]
    },
    {
     "data": {
      "text/plain": [
       "[<matplotlib.lines.Line2D at 0x7f6fd273ab80>]"
      ]
     },
     "execution_count": 47,
     "metadata": {},
     "output_type": "execute_result"
    },
    {
     "data": {
      "image/png": "[encoded data removed]",
      "text/plain": [
       "<Figure size 432x288 with 1 Axes>"
      ]
     },
     "metadata": {
      "needs_background": "light"
     },
     "output_type": "display_data"
    }
   ],
   "source": [
    "# debugging\n",
    "\n",
    "test = np.linspace(0, 10)\n",
    "plt.plot(test, M_CDF(test))\n",
    "\n",
    "test_r = np.linspace(0, 1)\n",
    "plt.plot(M_inverseCDF(test_r), test_r)"
   ]
  },
  {
   "cell_type": "markdown",
   "id": "79296261",
   "metadata": {},
   "source": [
    "# Convert back to x and y"
   ]
  },
  {
   "cell_type": "code",
   "execution_count": 48,
   "id": "36b630c7",
   "metadata": {},
   "outputs": [],
   "source": [
    "# Convert to polar coordinates (mu --> r)\n",
    "\n",
    "sigma = 1 # arbitrary\n",
    "\n",
    "values_r = np.sqrt(2*sigma**2 * values_mu)"
   ]
  },
  {
   "cell_type": "code",
   "execution_count": 49,
   "id": "bd2758b8",
   "metadata": {},
   "outputs": [
    {
     "name": "stdout",
     "output_type": "stream",
     "text": [
      "mean 0.05644049933876519\n",
      "std 1.0561386274215143\n"
     ]
    }
   ],
   "source": [
    "# Convert to cartesian\n",
    "\n",
    "x = values_r*np.cos(values_theta)\n",
    "y = values_r*np.sin(values_theta)\n",
    "\n",
    "print(\"mean\", np.mean(x))\n",
    "print(\"std\", np.std(x))"
   ]
  },
  {
   "cell_type": "markdown",
   "id": "fa1f353b",
   "metadata": {},
   "source": [
    "# Plotting"
   ]
  },
  {
   "cell_type": "code",
   "execution_count": 50,
   "id": "113dbf44",
   "metadata": {},
   "outputs": [
    {
     "data": {
      "image/png": "[encoded data removed]",
      "text/plain": [
       "<Figure size 432x288 with 1 Axes>"
      ]
     },
     "metadata": {
      "needs_background": "light"
     },
     "output_type": "display_data"
    }
   ],
   "source": [
    "hist = plt.hist(x)\n",
    "plt.show()\n",
    "\n",
    "counts = hist[0]\n",
    "bin_edges = hist[1]\n",
    "\n",
    "bin_widths = np.mean(np.diff(bin_edges))\n",
    "bin_middles = bin_edges+bin_widths/2\n",
    "bin_middles = bin_middles[:-1]\n",
    "\n",
    "# normalize\n",
    "norm = Nsamp*bin_widths\n",
    "counts /= norm"
   ]
  },
  {
   "cell_type": "code",
   "execution_count": null,
   "id": "d21f2ff4",
   "metadata": {},
   "outputs": [],
   "source": [
    "# Verify quantitatively that your random number generator works."
   ]
  }
 ],
 "metadata": {
  "kernelspec": {
   "display_name": "Python 3 (ipykernel)",
   "language": "python",
   "name": "python3"
  },
  "language_info": {
   "codemirror_mode": {
    "name": "ipython",
    "version": 3
   },
   "file_extension": ".py",
   "mimetype": "text/x-python",
   "name": "python",
   "nbconvert_exporter": "python",
   "pygments_lexer": "ipython3",
   "version": "3.8.5"
  }
 },
 "nbformat": 4,
 "nbformat_minor": 5
}
