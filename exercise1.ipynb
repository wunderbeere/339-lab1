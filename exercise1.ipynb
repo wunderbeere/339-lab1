{
 "cells": [
  {
   "cell_type": "code",
   "execution_count": 1,
   "id": "508eb835",
   "metadata": {},
   "outputs": [],
   "source": [
    "import numpy as np\n",
    "import matplotlib.pyplot as plt\n",
    "import random as r"
   ]
  },
  {
   "cell_type": "code",
   "execution_count": 21,
   "id": "0255dea7",
   "metadata": {},
   "outputs": [],
   "source": [
    "A = 2\n",
    "def CDF(x):\n",
    "    return 1/2 * A * x**2\n",
    "\n",
    "def inverseCDF(r):\n",
    "    return np.sqrt(2*r/A)"
   ]
  },
  {
   "cell_type": "code",
   "execution_count": 22,
   "id": "f8dcc217",
   "metadata": {},
   "outputs": [],
   "source": [
    "Nsamp = 1e7\n",
    "\n",
    "values = np.zeros(int(Nsamp))\n",
    "trials = range(int(Nsamp))\n",
    "\n",
    "for i in trials:\n",
    "    ro = r.random() # value between 0 and 1\n",
    "    values[i] = inverseCDF(ro) # store randomly generated x's"
   ]
  },
  {
   "cell_type": "code",
   "execution_count": 23,
   "id": "ea9238a9",
   "metadata": {},
   "outputs": [
    {
     "name": "stdout",
     "output_type": "stream",
     "text": [
      "mean 0.6665951977495048\n",
      "std 0.23570450114735986\n"
     ]
    }
   ],
   "source": [
    "print(\"mean\", np.mean(values))\n",
    "print(\"std\", np.std(values))"
   ]
  },
  {
   "cell_type": "markdown",
   "id": "bc59fced",
   "metadata": {},
   "source": [
    "## Verify quantitatively that your random number generator works"
   ]
  },
  {
   "cell_type": "code",
   "execution_count": 24,
   "id": "186d3213",
   "metadata": {
    "scrolled": false
   },
   "outputs": [
    {
     "data": {
      "image/png": "[encoded data removed]",
      "text/plain": [
       "<Figure size 432x288 with 1 Axes>"
      ]
     },
     "metadata": {
      "needs_background": "light"
     },
     "output_type": "display_data"
    },
    {
     "data": {
      "image/png": "[encoded data removed]",
      "text/plain": [
       "<Figure size 648x432 with 1 Axes>"
      ]
     },
     "metadata": {
      "needs_background": "light"
     },
     "output_type": "display_data"
    },
    {
     "name": "stdout",
     "output_type": "stream",
     "text": [
      "The slope of the generated dataset is:\n",
      "1.9990923916193701 +/- 0.000995795317345209\n"
     ]
    }
   ],
   "source": [
    "# Verify quantitatively that your random number generator works\n",
    "\n",
    "hist = plt.hist(values)\n",
    "plt.show()\n",
    "\n",
    "randomly_gen_x = hist[0]\n",
    "bin_edges = hist[1]\n",
    "\n",
    "bin_widths = np.mean(np.diff(bin_edges))\n",
    "bin_middles = bin_edges+bin_widths/2\n",
    "bin_middles = bin_middles[:-1]\n",
    "\n",
    "# normalize\n",
    "norm = Nsamp*bin_widths\n",
    "randomly_gen_x /= norm\n",
    "\n",
    "# Fit a linear \n",
    "\n",
    "p = np.polyfit(bin_middles, randomly_gen_x, 1, full = False, cov = True)\n",
    "x = np.linspace(0,1,100)\n",
    "\n",
    "plt.figure(figsize=(9, 6))\n",
    "plt.title(\"Histogram for linear PDF\")\n",
    "plt.plot(bin_middles, randomly_gen_x, \"o\")\n",
    "plt.plot(x, p[0][0]*x)\n",
    "plt.show()\n",
    "\n",
    "# error on the curve fit\n",
    "sigma = np.sqrt(p[1][0, 0])\n",
    "\n",
    "print(\"The slope of the generated dataset is:\")\n",
    "print(p[0][0], \"+/-\", sigma)"
   ]
  },
  {
   "cell_type": "markdown",
   "id": "506a3df1",
   "metadata": {},
   "source": [
    "## How might you attach an error bar to the histogram/cumulative histogram points? (e.g. the error associated with a certain fixed sample number)."
   ]
  },
  {
   "cell_type": "code",
   "execution_count": null,
   "id": "61cb51bc",
   "metadata": {},
   "outputs": [],
   "source": [
    "# repeat the simulation multiple times and get the standard deviation of each bin"
   ]
  },
  {
   "cell_type": "markdown",
   "id": "0650edfc",
   "metadata": {},
   "source": [
    "## Also show that you understand the values of the mean and standard deviation produced by your generator\n",
    "\n"
   ]
  },
  {
   "cell_type": "code",
   "execution_count": 25,
   "id": "b4680600",
   "metadata": {},
   "outputs": [
    {
     "name": "stdout",
     "output_type": "stream",
     "text": [
      "Mean of randomly generated numbers: 0.6665951977495048 +/- 0.2357045129325858\n"
     ]
    }
   ],
   "source": [
    "# Calculating the sample mean\n",
    "\n",
    "sample_mean = np.mean(values)\n",
    "sample_stdev = np.std(values, ddof = 1)\n",
    "\n",
    "print(\"Mean of randomly generated numbers:\", sample_mean, \"+/-\", sample_stdev)"
   ]
  },
  {
   "cell_type": "code",
   "execution_count": 30,
   "id": "248658fe",
   "metadata": {},
   "outputs": [
    {
     "name": "stdout",
     "output_type": "stream",
     "text": [
      "Mean of number distribution: 0.6666666666666666 +/- 0.05555555555555558\n"
     ]
    }
   ],
   "source": [
    "# Calculating the population mean\n",
    "\n",
    "# integral of P(x) = Ax * x\n",
    "pop_mean = A*1/3\n",
    "pop_stdev = A/4 - 2*A**2/9 + A**4/18 # which one is correct?\n",
    "pop_stdev = A/4 - A*2/9\n",
    "\n",
    "print(\"Mean of number distribution:\", pop_mean, \"+/-\", pop_stdev)"
   ]
  },
  {
   "cell_type": "code",
   "execution_count": null,
   "id": "a465bd55",
   "metadata": {},
   "outputs": [],
   "source": []
  }
 ],
 "metadata": {
  "kernelspec": {
   "display_name": "Python 3 (ipykernel)",
   "language": "python",
   "name": "python3"
  },
  "language_info": {
   "codemirror_mode": {
    "name": "ipython",
    "version": 3
   },
   "file_extension": ".py",
   "mimetype": "text/x-python",
   "name": "python",
   "nbconvert_exporter": "python",
   "pygments_lexer": "ipython3",
   "version": "3.8.5"
  }
 },
 "nbformat": 4,
 "nbformat_minor": 5
}
